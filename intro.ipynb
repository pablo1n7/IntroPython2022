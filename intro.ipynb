{
 "cells": [
  {
   "cell_type": "markdown",
   "id": "e58bae0a-3cc7-4e91-82b9-b357ebd5abdf",
   "metadata": {},
   "source": [
    "# Introducción a Python con Jupyter Lab."
   ]
  },
  {
   "cell_type": "markdown",
   "id": "6c2c881d-435e-4a9e-8e21-a1bab953f6b2",
   "metadata": {
    "tags": []
   },
   "source": [
    "## Indice"
   ]
  },
  {
   "cell_type": "markdown",
   "id": "f5313650-0194-4993-8348-397060b4b104",
   "metadata": {},
   "source": [
    "1. **Qué es Python?**\n",
    "\n",
    "2. **¿Dónde y Cómo hablamos Python?** \n",
    "\n",
    "    a. Consola/Terminal\n",
    "    \n",
    "    b. Scripting\n",
    "    \n",
    "    c. Jupyter \n",
    "\n",
    "3. **Algorítmica con Python**\n",
    "    \n",
    "    a. Tipos de Datos\n",
    "    \n",
    "    b. Control de Flujo\n",
    "    \n",
    "    c. Funciones\n",
    "    \n",
    "    d. Clases y Objetos."
   ]
  },
  {
   "cell_type": "markdown",
   "id": "02e00eed-564c-48c8-ad65-7cee16940b7f",
   "metadata": {},
   "source": [
    "## ¿Qué es Python?"
   ]
  },
  {
   "cell_type": "markdown",
   "id": "570ae07e-6caa-418f-a93d-5689219df2f8",
   "metadata": {},
   "source": [
    "<img src='https://upload.wikimedia.org/wikipedia/commons/thumb/c/c3/Python-logo-notext.svg/1869px-Python-logo-notext.svg.png' width='300px' />"
   ]
  },
  {
   "cell_type": "markdown",
   "id": "e942ab4f-930f-45fa-bdf0-1e8feac95476",
   "metadata": {},
   "source": [
    "Wikipedia dice:\n",
    "\n",
    "“Python es un lenguaje de programación **interpretado** cuya filosofía hace hincapié en la legibilidad de su código.\n",
    "Se trata de un lenguaje de programación **multiparadigma**, ya que soporta orientación a objetos, programación imperativa y, en menor medida, programación funcional. Es un lenguaje interpretado, **dinámico** y multiplataforma”.\n"
   ]
  },
  {
   "cell_type": "markdown",
   "id": "e935da9a-341c-40f4-b8fc-b357ae427641",
   "metadata": {},
   "source": [
    "<h3> interpretado, dinámico y multiparadigma</h3>"
   ]
  },
  {
   "cell_type": "markdown",
   "id": "d1a46d4f-4be0-47b8-be07-a48fd967e693",
   "metadata": {
    "tags": []
   },
   "source": [
    "## ¿Dónde y Cómo hablamos Python?"
   ]
  },
  {
   "cell_type": "markdown",
   "id": "8cb36be1-7fc8-4042-9017-06e401d375ae",
   "metadata": {},
   "source": [
    "### Terminal/Consola"
   ]
  },
  {
   "cell_type": "markdown",
   "id": "937f346f-c7b6-42f6-a8d4-b20e9a823c14",
   "metadata": {},
   "source": [
    "\n",
    "<img src='https://c.tenor.com/5ry-200hErMAAAAd/hacker-hacker-man.gif' width='300px'/>"
   ]
  },
  {
   "cell_type": "markdown",
   "id": "a2bee51a-7f00-441d-a055-d9def5ad374d",
   "metadata": {
    "tags": []
   },
   "source": [
    "### Scripting"
   ]
  },
  {
   "cell_type": "code",
   "execution_count": null,
   "id": "7f321e0c-bf72-4c7a-acf4-6cb752f1a663",
   "metadata": {
    "tags": []
   },
   "outputs": [],
   "source": [
    "%%writefile script.py\n",
    "def main():\n",
    "    print('Hola Mundo, Hola Meetup')\n",
    "    \n",
    "if __name__ == \"__main__\":\n",
    "    main()"
   ]
  },
  {
   "cell_type": "code",
   "execution_count": null,
   "id": "05be2286-5e06-4849-b06a-de6b4cdaf70f",
   "metadata": {},
   "outputs": [],
   "source": [
    "%pycat script.py"
   ]
  },
  {
   "cell_type": "markdown",
   "id": "ab0804a1-bad7-4a27-a246-4a796dd4be32",
   "metadata": {
    "tags": []
   },
   "source": [
    "### Jupyter"
   ]
  },
  {
   "cell_type": "markdown",
   "id": "cde3d063-be2b-4dee-be8d-ad7c5f5fafde",
   "metadata": {},
   "source": [
    "\n",
    "<img src='https://i.pinimg.com/736x/00/ff/43/00ff43ef942a0376211e790a49e3b6aa.jpg' width='300px'/>"
   ]
  },
  {
   "cell_type": "markdown",
   "id": "2ce04934-e3bd-45bd-b4d9-e906e75d2869",
   "metadata": {
    "tags": []
   },
   "source": [
    "## Google Colab"
   ]
  },
  {
   "cell_type": "code",
   "execution_count": null,
   "id": "82d5b6a4-c6dd-40b2-b210-5caf5edef4e1",
   "metadata": {},
   "outputs": [],
   "source": [
    "#google colab"
   ]
  },
  {
   "cell_type": "markdown",
   "id": "e66780e4-7a76-410e-aef7-a33fa66c0f5d",
   "metadata": {},
   "source": [
    "# Algorítmica con Python"
   ]
  },
  {
   "cell_type": "markdown",
   "id": "0956cf64-370e-4862-a9b6-cb556dacbdf0",
   "metadata": {
    "tags": []
   },
   "source": [
    "## Tipos de Datos "
   ]
  },
  {
   "cell_type": "markdown",
   "id": "11fc5e42-e172-4d6f-9975-2cd460ffe1b3",
   "metadata": {
    "tags": []
   },
   "source": [
    "### Enteros y Flotantes"
   ]
  },
  {
   "cell_type": "code",
   "execution_count": null,
   "id": "481841d4-57ee-4fe0-8f54-6bae6cca8b22",
   "metadata": {
    "collapsed": false,
    "jupyter": {
     "outputs_hidden": false
    }
   },
   "outputs": [],
   "source": [
    "num_1 = 80\n",
    "num_2 = 232"
   ]
  },
  {
   "cell_type": "code",
   "execution_count": null,
   "id": "3fd92ab9-e80e-4490-8fbe-2d48bf56d14a",
   "metadata": {
    "collapsed": false,
    "jupyter": {
     "outputs_hidden": false
    }
   },
   "outputs": [],
   "source": [
    "num_1 + num_2"
   ]
  },
  {
   "cell_type": "code",
   "execution_count": null,
   "id": "3f9e1455-8e62-46bb-9654-af80704ec56b",
   "metadata": {
    "collapsed": false,
    "jupyter": {
     "outputs_hidden": false
    }
   },
   "outputs": [],
   "source": [
    "num_1 / 0"
   ]
  },
  {
   "cell_type": "code",
   "execution_count": null,
   "id": "5eb50938-2377-4a48-8053-550a32cf1bd7",
   "metadata": {
    "collapsed": false,
    "jupyter": {
     "outputs_hidden": false
    }
   },
   "outputs": [],
   "source": [
    "num_1 * 3"
   ]
  },
  {
   "cell_type": "code",
   "execution_count": null,
   "id": "953587c8-0417-4db2-a734-55225a79c6e6",
   "metadata": {
    "collapsed": false,
    "jupyter": {
     "outputs_hidden": false
    }
   },
   "outputs": [],
   "source": [
    "num_2 ** 2 "
   ]
  },
  {
   "cell_type": "code",
   "execution_count": null,
   "id": "e3bb3c89-03b5-42fb-bbc7-d57949e7c2f6",
   "metadata": {
    "collapsed": false,
    "jupyter": {
     "outputs_hidden": false
    }
   },
   "outputs": [],
   "source": [
    "import math\n",
    "math.sqrt(4)"
   ]
  },
  {
   "cell_type": "code",
   "execution_count": null,
   "id": "66bf221d-81be-4d9e-98a5-e6890b1dd352",
   "metadata": {
    "collapsed": false,
    "jupyter": {
     "outputs_hidden": false
    }
   },
   "outputs": [],
   "source": [
    "math.pi"
   ]
  },
  {
   "cell_type": "markdown",
   "id": "5b2f428a-1608-47cd-8e5b-d0e0cf79e41a",
   "metadata": {},
   "source": [
    "### Cadenas"
   ]
  },
  {
   "cell_type": "code",
   "execution_count": null,
   "id": "5ee4cf49-90f0-4fcb-bdae-99dd8e275da5",
   "metadata": {
    "collapsed": false,
    "jupyter": {
     "outputs_hidden": false
    }
   },
   "outputs": [],
   "source": [
    "cadena_1 = \"Hola Mundo\"\n",
    "cadena_2 = ','\n",
    "cadena_3 = \"Adios Mundo\"\n",
    "print(cadena_3)"
   ]
  },
  {
   "cell_type": "code",
   "execution_count": null,
   "id": "6dc45d75-a47f-4d60-95c8-789780d3b89d",
   "metadata": {
    "collapsed": false,
    "jupyter": {
     "outputs_hidden": false
    }
   },
   "outputs": [],
   "source": [
    "cadena_3[:4]"
   ]
  },
  {
   "cell_type": "code",
   "execution_count": null,
   "id": "2de53ba4-371f-4f6c-82a4-495eca1f010d",
   "metadata": {
    "collapsed": false,
    "jupyter": {
     "outputs_hidden": false
    }
   },
   "outputs": [],
   "source": [
    "cadena_1[0:4]"
   ]
  },
  {
   "cell_type": "code",
   "execution_count": null,
   "id": "bc50edce-c90a-4246-ba8c-d18657f596a9",
   "metadata": {
    "collapsed": false,
    "jupyter": {
     "outputs_hidden": false
    }
   },
   "outputs": [],
   "source": [
    "cadena_1 + cadena_2 +cadena_3"
   ]
  },
  {
   "cell_type": "code",
   "execution_count": null,
   "id": "4eadfd79-01d5-482a-ba0e-9a1b5fc4a0b8",
   "metadata": {
    "collapsed": false,
    "jupyter": {
     "outputs_hidden": false
    }
   },
   "outputs": [],
   "source": [
    "\"Mundo\" * 3 "
   ]
  },
  {
   "cell_type": "code",
   "execution_count": null,
   "id": "b70a40b3-a964-4e63-b6dd-0b3a777fdfe1",
   "metadata": {
    "collapsed": false,
    "jupyter": {
     "outputs_hidden": false
    }
   },
   "outputs": [],
   "source": [
    "'Aguante el %s de %s' % ('meetup', 'python')"
   ]
  },
  {
   "cell_type": "code",
   "execution_count": null,
   "id": "dfbc8e51-c9df-4817-9a28-ea460279e431",
   "metadata": {
    "collapsed": false,
    "jupyter": {
     "outputs_hidden": false
    },
    "scrolled": true
   },
   "outputs": [],
   "source": [
    "'El helado de {} y {} es lo mejor'.format(cadena_1, 'menta')"
   ]
  },
  {
   "cell_type": "code",
   "execution_count": null,
   "id": "741d0b1d-dd71-4355-a666-0839508f9b8b",
   "metadata": {},
   "outputs": [],
   "source": [
    "f'{cadena_1} y chau Mundo'"
   ]
  },
  {
   "cell_type": "markdown",
   "id": "6282e820-bc1e-447d-ab47-bd9fd5468fe3",
   "metadata": {},
   "source": [
    "### Booleanos (Logicos)"
   ]
  },
  {
   "cell_type": "code",
   "execution_count": null,
   "id": "ce92f502-8f97-43dd-9891-37b61c82adfe",
   "metadata": {
    "collapsed": false,
    "jupyter": {
     "outputs_hidden": false
    }
   },
   "outputs": [],
   "source": [
    "bool_1 = False\n",
    "bool_2 = True"
   ]
  },
  {
   "cell_type": "code",
   "execution_count": null,
   "id": "8c2a58ea-f552-4b7a-98ed-1c12b7b407b2",
   "metadata": {
    "collapsed": false,
    "jupyter": {
     "outputs_hidden": false
    }
   },
   "outputs": [],
   "source": [
    "bool_1 and bool_2"
   ]
  },
  {
   "cell_type": "code",
   "execution_count": null,
   "id": "ae548434-ed63-44e4-af32-036dc674fb26",
   "metadata": {
    "collapsed": false,
    "jupyter": {
     "outputs_hidden": false
    }
   },
   "outputs": [],
   "source": [
    "bool_1 or bool_2"
   ]
  },
  {
   "cell_type": "code",
   "execution_count": null,
   "id": "82008c31-e1a4-4acf-b90e-fd6430f64a81",
   "metadata": {
    "collapsed": false,
    "jupyter": {
     "outputs_hidden": false
    }
   },
   "outputs": [],
   "source": [
    "num_1 > num_2 or num_2 == 5  "
   ]
  },
  {
   "cell_type": "markdown",
   "id": "4ee53f3a-254d-4e0f-a54b-0f753148bd5c",
   "metadata": {},
   "source": [
    "### Tuplas (Enumerados)"
   ]
  },
  {
   "cell_type": "code",
   "execution_count": null,
   "id": "698b3361-c635-477e-ad12-b2dd70b32ce9",
   "metadata": {
    "collapsed": false,
    "jupyter": {
     "outputs_hidden": false
    }
   },
   "outputs": [],
   "source": [
    "tuple_1 = (1,2,4,5,6,7,7,\"asd\")\n",
    "tuple_2 = 5,6\n",
    "print(tuple_2)"
   ]
  },
  {
   "cell_type": "code",
   "execution_count": null,
   "id": "42bf6ca7-bbc6-41f0-9ff5-5cc34c2feb69",
   "metadata": {
    "collapsed": false,
    "jupyter": {
     "outputs_hidden": false
    }
   },
   "outputs": [],
   "source": [
    "tuple_1"
   ]
  },
  {
   "cell_type": "code",
   "execution_count": null,
   "id": "fb508692-716e-47df-b39f-f752107d46e4",
   "metadata": {
    "collapsed": false,
    "jupyter": {
     "outputs_hidden": false
    }
   },
   "outputs": [],
   "source": [
    "tuple_1[0]"
   ]
  },
  {
   "cell_type": "code",
   "execution_count": null,
   "id": "be21393d-5e55-4e11-b1c3-f8bab9666853",
   "metadata": {
    "collapsed": false,
    "jupyter": {
     "outputs_hidden": false
    }
   },
   "outputs": [],
   "source": [
    "tuple_2[2]"
   ]
  },
  {
   "cell_type": "code",
   "execution_count": null,
   "id": "b6da666e-b720-40a5-b00b-0c3f6d475317",
   "metadata": {
    "collapsed": false,
    "jupyter": {
     "outputs_hidden": false
    }
   },
   "outputs": [],
   "source": [
    "tuple_2[0] = 10"
   ]
  },
  {
   "cell_type": "code",
   "execution_count": null,
   "id": "7aad2263-2e76-4cd6-b20d-8d099c5131cc",
   "metadata": {
    "collapsed": false,
    "jupyter": {
     "outputs_hidden": false
    }
   },
   "outputs": [],
   "source": [
    "tuple_2 * 5"
   ]
  },
  {
   "cell_type": "code",
   "execution_count": null,
   "id": "e3e57bef-5cd9-491d-93da-f8688b8fbc4b",
   "metadata": {
    "collapsed": false,
    "jupyter": {
     "outputs_hidden": false
    }
   },
   "outputs": [],
   "source": [
    "tuple_2.index(\"asdas\")"
   ]
  },
  {
   "cell_type": "markdown",
   "id": "3176f6bb-eaff-4377-a8bc-90509c80ee37",
   "metadata": {},
   "source": [
    "### Listas (Arreglos)"
   ]
  },
  {
   "cell_type": "code",
   "execution_count": null,
   "id": "ce4b25ce-5416-4cc9-bfac-f21da87033ae",
   "metadata": {
    "collapsed": false,
    "jupyter": {
     "outputs_hidden": false
    }
   },
   "outputs": [],
   "source": [
    "# por extension \n",
    "lista_1 = [1,2,3,4,5,6]\n",
    "print(lista_1)"
   ]
  },
  {
   "cell_type": "code",
   "execution_count": null,
   "id": "4cc99f8c-e103-4c22-81e5-31024d7631f3",
   "metadata": {
    "collapsed": false,
    "jupyter": {
     "outputs_hidden": false
    }
   },
   "outputs": [],
   "source": [
    "# por compresion\n",
    "lista_2 = [2**i for i in range(13)]\n",
    "print(lista_2)\n",
    "\n",
    "lista_2 = list(range(2,6))\n"
   ]
  },
  {
   "cell_type": "code",
   "execution_count": null,
   "id": "07464c3f-2f44-4907-affb-b371b40cc57c",
   "metadata": {
    "collapsed": false,
    "jupyter": {
     "outputs_hidden": false
    }
   },
   "outputs": [],
   "source": [
    "cadena_1\n",
    "\"Hola\" in cadena_1"
   ]
  },
  {
   "cell_type": "code",
   "execution_count": null,
   "id": "dbba1df5-ab9f-457e-afaf-ae947cc0151d",
   "metadata": {
    "collapsed": false,
    "jupyter": {
     "outputs_hidden": false
    }
   },
   "outputs": [],
   "source": [
    "lista_1[:]"
   ]
  },
  {
   "cell_type": "code",
   "execution_count": null,
   "id": "949d58dd-fb6d-479b-b8fb-bb59b7b9f088",
   "metadata": {
    "collapsed": false,
    "jupyter": {
     "outputs_hidden": false
    }
   },
   "outputs": [],
   "source": [
    "lista_1[:3]"
   ]
  },
  {
   "cell_type": "code",
   "execution_count": null,
   "id": "e69824cd-102c-4c71-aabb-ce1c2d86fb51",
   "metadata": {
    "collapsed": false,
    "jupyter": {
     "outputs_hidden": false
    }
   },
   "outputs": [],
   "source": [
    "lista_2 = lista_1[:] * 2\n",
    "print(lista_2)"
   ]
  },
  {
   "cell_type": "code",
   "execution_count": null,
   "id": "b7a08557-26c0-46aa-a3d8-afb39c3efb14",
   "metadata": {
    "collapsed": false,
    "jupyter": {
     "outputs_hidden": false
    }
   },
   "outputs": [],
   "source": [
    "lista_2[:6] = [\"A\",\"B\",\"C\",\"D\"]\n",
    "print(lista_2)"
   ]
  },
  {
   "cell_type": "code",
   "execution_count": null,
   "id": "6738ec31-51b9-4173-bcc0-efb8a4d1e5fd",
   "metadata": {
    "collapsed": false,
    "jupyter": {
     "outputs_hidden": false
    }
   },
   "outputs": [],
   "source": [
    "lista_1 = ['a', 'b', 'c']\n",
    "lista_2 = [1, 2, 3]\n",
    "lista_3 = [lista_1, lista_2,lista_1,lista_2]\n",
    "print(lista_3)"
   ]
  },
  {
   "cell_type": "code",
   "execution_count": null,
   "id": "b2273740-78c2-4716-ad2e-47429f95d0b0",
   "metadata": {
    "collapsed": false,
    "jupyter": {
     "outputs_hidden": false
    }
   },
   "outputs": [],
   "source": [
    "pila = lista_2[:]\n",
    "print(pila)\n",
    "pila.pop()\n",
    "print(pila)"
   ]
  },
  {
   "cell_type": "code",
   "execution_count": null,
   "id": "35f8485c-7505-480c-8533-44ee1a37f6a6",
   "metadata": {
    "collapsed": false,
    "jupyter": {
     "outputs_hidden": false
    }
   },
   "outputs": [],
   "source": [
    "lista_3"
   ]
  },
  {
   "cell_type": "code",
   "execution_count": null,
   "id": "39b86779-45fb-443d-a7e1-e0a0a53e3e34",
   "metadata": {
    "collapsed": false,
    "jupyter": {
     "outputs_hidden": false
    }
   },
   "outputs": [],
   "source": [
    "cola = lista_1[:]\n",
    "print(cola)\n",
    "cola.pop(0)\n",
    "print(cola)"
   ]
  },
  {
   "cell_type": "markdown",
   "id": "a929dd0b-13d7-4668-ab14-bb90222fec61",
   "metadata": {},
   "source": [
    "### Diccionarios (Registros)"
   ]
  },
  {
   "cell_type": "code",
   "execution_count": null,
   "id": "3e514fe5-cb05-4e95-89a7-0a5a3381e5f1",
   "metadata": {
    "collapsed": false,
    "jupyter": {
     "outputs_hidden": false
    },
    "scrolled": true
   },
   "outputs": [],
   "source": [
    "dicc_1 = {\"Uno\":1,\"Dos\":2,\"Tres\":3}\n",
    "print(dicc_1)"
   ]
  },
  {
   "cell_type": "code",
   "execution_count": null,
   "id": "13a3d132-c962-48f6-b61d-1c4083cc10a9",
   "metadata": {
    "collapsed": false,
    "jupyter": {
     "outputs_hidden": false
    }
   },
   "outputs": [],
   "source": [
    "dicc_1[\"Tres\"]"
   ]
  },
  {
   "cell_type": "code",
   "execution_count": null,
   "id": "a180bb7a-97bf-480e-8298-448a28083dd6",
   "metadata": {
    "collapsed": false,
    "jupyter": {
     "outputs_hidden": false
    }
   },
   "outputs": [],
   "source": [
    "del(dicc_1[\"Dos\"])\n",
    "print(dicc_1)"
   ]
  },
  {
   "cell_type": "code",
   "execution_count": null,
   "id": "226ee8b8-2e99-4128-b799-5915567705ca",
   "metadata": {
    "collapsed": false,
    "jupyter": {
     "outputs_hidden": false
    }
   },
   "outputs": [],
   "source": [
    "\"Tres\" in dicc_1"
   ]
  },
  {
   "cell_type": "markdown",
   "id": "6350323a-e38a-4252-bbb8-1900701e04c4",
   "metadata": {
    "tags": []
   },
   "source": [
    "## Estructura de decisión"
   ]
  },
  {
   "cell_type": "code",
   "execution_count": null,
   "id": "73124dcf-b300-49ed-896a-688fd8dd4e26",
   "metadata": {
    "collapsed": false,
    "jupyter": {
     "outputs_hidden": false
    }
   },
   "outputs": [],
   "source": [
    "print(lista_1)\n",
    "#lista_1.append('d')\n",
    "if ('d' in lista_1):\n",
    "    print (\" 'd' pertenece a la lista\")\n",
    "else:\n",
    "    print (\" 'd' no pertenece\")"
   ]
  },
  {
   "cell_type": "markdown",
   "id": "b485d70c-2702-43fa-90e4-93327fe33729",
   "metadata": {},
   "source": [
    "## Estructuras de repetición"
   ]
  },
  {
   "cell_type": "code",
   "execution_count": null,
   "id": "7dd8527b-a03e-481c-a09e-b3cec0d3741b",
   "metadata": {
    "collapsed": false,
    "jupyter": {
     "outputs_hidden": false
    }
   },
   "outputs": [],
   "source": [
    "cola = list(range(6))\n",
    "while(len(cola)):\n",
    "    print(cola.pop(0))"
   ]
  },
  {
   "cell_type": "code",
   "execution_count": null,
   "id": "18fd97b5-8d1f-403f-b202-260a074e9e91",
   "metadata": {
    "collapsed": false,
    "jupyter": {
     "outputs_hidden": false
    }
   },
   "outputs": [],
   "source": [
    "lista_1 = [\"Rojo\",\"Verde\",\"Azul\",\"Amarillo\"]\n",
    "for color in lista_1:\n",
    "    print(color)"
   ]
  },
  {
   "cell_type": "markdown",
   "id": "a5e113dd-3aeb-401b-9af9-6606627cbc3a",
   "metadata": {},
   "source": [
    "La **indentación** es importante en Python"
   ]
  },
  {
   "cell_type": "code",
   "execution_count": null,
   "id": "a89d4e91-5bb9-436f-8d7e-f6bbd9836127",
   "metadata": {},
   "outputs": [],
   "source": [
    "for color in lista_1:\n",
    "    print(color)\n",
    "print(f'Tiene {len(lista_1)} de largo ')"
   ]
  },
  {
   "cell_type": "code",
   "execution_count": null,
   "id": "07ccc14b-c3ec-408a-b197-f09e0bd0d64f",
   "metadata": {
    "collapsed": false,
    "jupyter": {
     "outputs_hidden": false
    }
   },
   "outputs": [],
   "source": [
    "lista_2 = [15,35,2,23]\n",
    "for elemento_1,elemento_2 in zip(lista_1,lista_2):\n",
    "    print (elemento_1)\n",
    "    print (elemento_2)"
   ]
  },
  {
   "cell_type": "code",
   "execution_count": null,
   "id": "ef9826d0-56db-4560-b48d-b9f7b1e1e651",
   "metadata": {
    "collapsed": false,
    "jupyter": {
     "outputs_hidden": false
    }
   },
   "outputs": [],
   "source": [
    "for indice,elemento_1 in enumerate(lista_1):\n",
    "    print (elemento_1)\n",
    "    print (indice)"
   ]
  },
  {
   "cell_type": "code",
   "execution_count": null,
   "id": "a0a676d1-0b73-4c82-bdd9-a49b18490ef6",
   "metadata": {
    "collapsed": false,
    "jupyter": {
     "outputs_hidden": false
    }
   },
   "outputs": [],
   "source": [
    "for i in range(30):\n",
    "    print(i)"
   ]
  },
  {
   "cell_type": "code",
   "execution_count": null,
   "id": "48d73050-cc2f-477c-b946-2919f036626c",
   "metadata": {
    "collapsed": false,
    "jupyter": {
     "outputs_hidden": false
    }
   },
   "outputs": [],
   "source": [
    "list(range(30))"
   ]
  },
  {
   "cell_type": "markdown",
   "id": "ee3ea494-6b39-40ee-b23b-ebb95029fe1a",
   "metadata": {
    "tags": []
   },
   "source": [
    "## Funciones"
   ]
  },
  {
   "cell_type": "code",
   "execution_count": null,
   "id": "f86d2703-230f-47ef-ab5e-1714dad892db",
   "metadata": {},
   "outputs": [],
   "source": [
    "def saludar_1(nombre):\n",
    "    return \"Hola {}, como te va ?\".format(nombre)"
   ]
  },
  {
   "cell_type": "code",
   "execution_count": null,
   "id": "d1ca55d8-8df5-404a-9125-f8c462a8c04b",
   "metadata": {
    "collapsed": false,
    "jupyter": {
     "outputs_hidden": false
    }
   },
   "outputs": [],
   "source": [
    "saludar_1(\"Pablo\")"
   ]
  },
  {
   "cell_type": "code",
   "execution_count": null,
   "id": "db3d2f0d-ed64-4ea6-8859-f14de56d2496",
   "metadata": {
    "collapsed": false,
    "jupyter": {
     "outputs_hidden": false
    }
   },
   "outputs": [],
   "source": [
    "def saludar_2(nombre=\"mundo\"):\n",
    "    return \"Hola {}\".format(nombre)"
   ]
  },
  {
   "cell_type": "code",
   "execution_count": null,
   "id": "c42e44b2-d388-4f2c-931e-ef6c73bfb1a5",
   "metadata": {
    "collapsed": false,
    "jupyter": {
     "outputs_hidden": false
    }
   },
   "outputs": [],
   "source": [
    "saludar_2()"
   ]
  },
  {
   "cell_type": "code",
   "execution_count": null,
   "id": "cfe3f6a1-0183-4dce-848e-cee06fa1cb43",
   "metadata": {
    "collapsed": false,
    "jupyter": {
     "outputs_hidden": false
    }
   },
   "outputs": [],
   "source": [
    "saludar_2(\"pablo\")"
   ]
  },
  {
   "cell_type": "code",
   "execution_count": null,
   "id": "00be9601-76e3-4fa4-bc61-331847ca7633",
   "metadata": {
    "collapsed": false,
    "jupyter": {
     "outputs_hidden": false
    }
   },
   "outputs": [],
   "source": [
    "def funcion_1(ancho,alto,edad,nombre=\"mundo\"):\n",
    "    print(\"Ancho={},Alto={},Edad={},Nombre={}\".format(ancho,alto,edad,nombre))"
   ]
  },
  {
   "cell_type": "code",
   "execution_count": null,
   "id": "6d5ead0b-fe6d-478e-9c6f-446f11dd8eb9",
   "metadata": {
    "collapsed": false,
    "jupyter": {
     "outputs_hidden": false
    }
   },
   "outputs": [],
   "source": [
    "a = [5.0,1.60,24,\"gerardo\"]\n",
    "funcion_1(*a)"
   ]
  },
  {
   "cell_type": "code",
   "execution_count": null,
   "id": "9e833d3f-8820-43ba-956e-ce88aa48a28b",
   "metadata": {
    "collapsed": false,
    "jupyter": {
     "outputs_hidden": false
    }
   },
   "outputs": [],
   "source": [
    "def funcion_2(*args,**kwargs):\n",
    "    print(\"Args = {}, kwargs={} \".format(args,kwargs))"
   ]
  },
  {
   "cell_type": "code",
   "execution_count": null,
   "id": "0b0addcb-a510-4f1a-996e-60bbf7930b79",
   "metadata": {
    "collapsed": false,
    "jupyter": {
     "outputs_hidden": false
    }
   },
   "outputs": [],
   "source": [
    "print(dicc_1)\n",
    "funcion_2([1,2,3,4,5],8, **dicc_1)"
   ]
  },
  {
   "cell_type": "markdown",
   "id": "0b73208b-fc5d-4313-8c9b-8f254965d0c0",
   "metadata": {
    "tags": []
   },
   "source": [
    "## Clases y Objetos"
   ]
  },
  {
   "cell_type": "code",
   "execution_count": null,
   "id": "396634c7-ac7c-40f3-8652-1779ed4eb213",
   "metadata": {},
   "outputs": [],
   "source": [
    "class Persona():\n",
    "    def __init__(self,nombre,edad,peso):\n",
    "        self.nombre = nombre\n",
    "        self.edad = edad\n",
    "        self.peso = peso\n",
    "        \n",
    "    def saludar(self):\n",
    "        print(\"Hola {}\".format(self.nombre))"
   ]
  },
  {
   "cell_type": "code",
   "execution_count": null,
   "id": "bd1b152c-4dd3-492d-8ba3-6b2e907258f2",
   "metadata": {},
   "outputs": [],
   "source": [
    "class Alumno(Persona):\n",
    "    def __init__(self,nombre,edad,peso,matricula,materias):\n",
    "        Persona.__init__(self,nombre,edad,peso)\n",
    "        self.matricula = matricula\n",
    "        self.materias = materias\n",
    "    \n",
    "    def materia_aprobada(self,materia):\n",
    "        self.materias.append(materia)"
   ]
  },
  {
   "cell_type": "code",
   "execution_count": null,
   "id": "8ac6832c-853d-4fda-a0aa-1887473e3e75",
   "metadata": {
    "collapsed": false,
    "jupyter": {
     "outputs_hidden": false
    }
   },
   "outputs": [],
   "source": [
    "p = Persona(\"Gerado\",30,80)\n",
    "p.saludar()"
   ]
  },
  {
   "cell_type": "code",
   "execution_count": null,
   "id": "edb9f160-dda5-4eb5-a190-b19cbaa91206",
   "metadata": {
    "collapsed": false,
    "jupyter": {
     "outputs_hidden": false
    }
   },
   "outputs": [],
   "source": [
    "a = Alumno(\"Pablo\",30,80,12345,[\"algebra\",\"analisis\"])\n",
    "a.saludar()\n",
    "a.materia_aprobada(\"Programación\")\n",
    "print(a.materias)"
   ]
  },
  {
   "cell_type": "markdown",
   "id": "2a0a4f87-d02f-45c9-b5f3-d952f25c236d",
   "metadata": {},
   "source": [
    "# Formato"
   ]
  },
  {
   "cell_type": "code",
   "execution_count": null,
   "id": "2a3cf141-196d-43fb-aa51-9758bc355cb2",
   "metadata": {},
   "outputs": [],
   "source": [
    "variable = \"pepe\""
   ]
  },
  {
   "cell_type": "code",
   "execution_count": null,
   "id": "162806d2-d5d0-4fc8-857f-f7dbc126711f",
   "metadata": {},
   "outputs": [],
   "source": [
    "variable=\"pepe\""
   ]
  },
  {
   "cell_type": "code",
   "execution_count": null,
   "id": "883a6a7d-8998-4cd9-9146-47ffb5ab7327",
   "metadata": {},
   "outputs": [],
   "source": [
    "variable+\"hola\""
   ]
  },
  {
   "cell_type": "code",
   "execution_count": null,
   "id": "371612d9-12e0-4078-a8c1-10ddf9371372",
   "metadata": {},
   "outputs": [],
   "source": [
    "#https://peps.python.org/pep-0008/"
   ]
  }
 ],
 "metadata": {
  "kernelspec": {
   "display_name": "Python 3 (ipykernel)",
   "language": "python",
   "name": "python3"
  },
  "language_info": {
   "codemirror_mode": {
    "name": "ipython",
    "version": 3
   },
   "file_extension": ".py",
   "mimetype": "text/x-python",
   "name": "python",
   "nbconvert_exporter": "python",
   "pygments_lexer": "ipython3",
   "version": "3.9.13"
  }
 },
 "nbformat": 4,
 "nbformat_minor": 5
}
